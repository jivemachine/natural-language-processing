{
 "cells": [
  {
   "cell_type": "code",
   "execution_count": 74,
   "metadata": {},
   "outputs": [],
   "source": [
    "from requests import get\n",
    "from bs4 import BeautifulSoup\n",
    "import os\n",
    "import json"
   ]
  },
  {
   "cell_type": "markdown",
   "metadata": {},
   "source": [
    "# Exercises\n",
    "`By the end of this exercise, you should have a file named acquire.py that contains the specified functions. If you wish, you may break your work into separate files for each website (e.g. acquire_codeup_blog.py and acquire_news_articles.py), but the end function should be present in acquire.py (that is, acquire.py should import get_blog_articles from the acquire_codeup_blog module.)`"
   ]
  },
  {
   "cell_type": "markdown",
   "metadata": {},
   "source": [
    "1. Codeup Blog Articles\n",
    "\n",
    "Scrape the article text from the following pages:\n",
    "\n",
    "- https://codeup.com/codeups-data-science-career-accelerator-is-here/"
   ]
  },
  {
   "cell_type": "code",
   "execution_count": 2,
   "metadata": {},
   "outputs": [],
   "source": [
    "url = 'https://codeup.com/codeups-data-science-career-accelerator-is-here/'\n",
    "headers = {'User-Agent': 'Codeup Data Science'} # Some websites don't accept the pyhon-requests default user-agent\n",
    "response = get(url, headers=headers)"
   ]
  },
  {
   "cell_type": "code",
   "execution_count": 3,
   "metadata": {},
   "outputs": [],
   "source": [
    "# Make a soup variable holding the response content\n",
    "soup = BeautifulSoup(response.content, 'html.parser')"
   ]
  },
  {
   "cell_type": "code",
   "execution_count": 13,
   "metadata": {
    "scrolled": true
   },
   "outputs": [
    {
     "data": {
      "text/plain": [
       "'The rumors are true! The time has arrived. Codeup has officially opened applications to our new Data Science career accelerator, with only 25 seats available! This immersive program is one of a kind in San Antonio, and will help you land a job in\\xa0Glassdoor’s #1 Best Job in America.Data Science is a method of providing actionable intelligence from data.\\xa0The data revolution has hit San Antonio,\\xa0resulting in an explosion in Data Scientist positions\\xa0across companies like USAA, Accenture, Booz Allen Hamilton, and HEB. We’ve even seen\\xa0UTSA invest $70 M for a Cybersecurity Center and School of Data Science.\\xa0We built a program to specifically meet the growing demands of this industry.Our program will be 18 weeks long, full-time, hands-on, and project-based. Our curriculum development and instruction is led by Senior Data Scientist, Maggie Giust, who has worked at HEB, Capital Group, and Rackspace, along with input from dozens of practitioners and hiring partners. Students will work with real data sets, realistic problems, and the entire data science pipeline from collection to deployment. They will receive professional development training in resume writing, interviewing, and continuing education to prepare for a smooth transition to the workforce.We focus on applied data science for immediate impact and ROI in a business, which is how we can back it all up with a 6 month tuition refund guarantee – just like our existing Web Dev program. We’re focusing on Data Science with Python, SQL, and ML, covered in\\xa014 modules: 1) Fundamentals; 2) Applied statistics; 3) SQL; 4) Python; 5) Supervised machine learning – regression; 6) Supervised machine learning – classification; 7) Unsupervised machine learning – clustering; 8) Time series analysis; 9) Anomaly detection; 10) Natural language processing; 11) Distributed machine learning; 12) Advanced topics (deep learning, NoSQL, cloud deployment, etc.); 13) Storytelling with data; and 14) Domain expertise development.Applications are now open\\xa0for Codeup’s first Data Science cohort, which will start class on February 4, 2019. Hurry – there are only 25 seats available! To further our mission of cultivating inclusive growth, scholarships will be available to women, minorities, LGBTQIA+ individuals, veterans, first responders, and people relocating to San Antonio.If you want to learn about joining our program or hiring our graduates, email datascience@codeup.com!'"
      ]
     },
     "execution_count": 13,
     "metadata": {},
     "output_type": "execute_result"
    }
   ],
   "source": [
    "soup.find('div', itemprop='text').text"
   ]
  },
  {
   "cell_type": "code",
   "execution_count": 14,
   "metadata": {},
   "outputs": [],
   "source": [
    "article = soup.find('div', itemprop='text').text"
   ]
  },
  {
   "cell_type": "code",
   "execution_count": 16,
   "metadata": {
    "scrolled": true
   },
   "outputs": [
    {
     "data": {
      "text/plain": [
       "'The rumors are true! The time has arrived. Codeup has officially opened applications to our new Data Science career accelerator, with only 25 seats available! This immersive program is one of a kind in San Antonio, and will help you land a job in\\xa0Glassdoor’s #1 Best Job in America.Data Science is a method of providing actionable intelligence from data.\\xa0The data revolution has hit San Antonio,\\xa0resulting in an explosion in Data Scientist positions\\xa0across companies like USAA, Accenture, Booz Allen Hamilton, and HEB. We’ve even seen\\xa0UTSA invest $70 M for a Cybersecurity Center and School of Data Science.\\xa0We built a program to specifically meet the growing demands of this industry.Our program will be 18 weeks long, full-time, hands-on, and project-based. Our curriculum development and instruction is led by Senior Data Scientist, Maggie Giust, who has worked at HEB, Capital Group, and Rackspace, along with input from dozens of practitioners and hiring partners. Students will work with real data sets, realistic problems, and the entire data science pipeline from collection to deployment. They will receive professional development training in resume writing, interviewing, and continuing education to prepare for a smooth transition to the workforce.We focus on applied data science for immediate impact and ROI in a business, which is how we can back it all up with a 6 month tuition refund guarantee – just like our existing Web Dev program. We’re focusing on Data Science with Python, SQL, and ML, covered in\\xa014 modules: 1) Fundamentals; 2) Applied statistics; 3) SQL; 4) Python; 5) Supervised machine learning – regression; 6) Supervised machine learning – classification; 7) Unsupervised machine learning – clustering; 8) Time series analysis; 9) Anomaly detection; 10) Natural language processing; 11) Distributed machine learning; 12) Advanced topics (deep learning, NoSQL, cloud deployment, etc.); 13) Storytelling with data; and 14) Domain expertise development.Applications are now open\\xa0for Codeup’s first Data Science cohort, which will start class on February 4, 2019. Hurry – there are only 25 seats available! To further our mission of cultivating inclusive growth, scholarships will be available to women, minorities, LGBTQIA+ individuals, veterans, first responders, and people relocating to San Antonio.If you want to learn about joining our program or hiring our graduates, email datascience@codeup.com!'"
      ]
     },
     "execution_count": 16,
     "metadata": {},
     "output_type": "execute_result"
    }
   ],
   "source": [
    "article"
   ]
  },
  {
   "cell_type": "markdown",
   "metadata": {},
   "source": [
    "- https://codeup.com/data-science-myths/"
   ]
  },
  {
   "cell_type": "code",
   "execution_count": 17,
   "metadata": {},
   "outputs": [],
   "source": [
    "url = 'https://codeup.com/data-science-myths/'\n",
    "headers = {'User-Agent' : 'Codeup Data Science'}\n",
    "response = get(url, headers=headers)"
   ]
  },
  {
   "cell_type": "code",
   "execution_count": 18,
   "metadata": {},
   "outputs": [],
   "source": [
    "# Make a soup variable holding the response content\n",
    "soup = BeautifulSoup(response.content, 'html.parser')"
   ]
  },
  {
   "cell_type": "code",
   "execution_count": 19,
   "metadata": {},
   "outputs": [],
   "source": [
    "article = soup.find('div', class_ = 'jupiterx-post-content')"
   ]
  },
  {
   "cell_type": "code",
   "execution_count": 20,
   "metadata": {
    "scrolled": true
   },
   "outputs": [
    {
     "data": {
      "text/plain": [
       "'By Dimitri Antoniou and Maggie GiustData Science, Big Data, Machine Learning, NLP, Neural Networks…these buzzwords have rapidly spread into mainstream use over the last few years. Unfortunately, definitions are varied and sources of truth are limited. Data Scientists are in fact not magical unicorn wizards who can snap their fingers and turn a business around! Today, we’ll take a cue from our favorite Mythbusters to tackle some common myths and misconceptions in the field of Data Science.via GIPHYMyth #1: Data Science = StatisticsAt first glance, this one doesn’t sound unreasonable. Statistics is defined as, “A branch of mathematics dealing with the collection, analysis, interpretation, and presentation of masses of numerical data.” That sounds a lot like our definition of Data Science: a method of drawing actionable intelligence from data. In truth, statistics is actually one small piece of Data Science. As our Senior Data Scientist puts it, “Statistics forces us to make assumptions about the nature of the relationship between variables, the distribution of the data, etc.” In the traditional Data Science venn diagram, you’ll see that math/stats make up ⅓ of a working professional. These are tools and skills to leverage, but data science itself is about drawing intelligence from data.BUSTED via GIPHY\\xa0Myth #2: Data Scientist = Business/Data AnalystThis one is so common that we wrote a whole post about it! These are separate and different roles within the data field. While a data scientist will often do analytics, their spectrum of work is wider. A data analyst will use structured data to create dashboards and KPIs, while a Data Scientist deals with unstructured and messy data for a range of outputs. If they’re interested, business analysts will often progress to data scientists.BUSTEDvia GIPHY\\xa0Myth #3: Data Science = Data ScienceThis one’s tricky, because it’s impossible to either confirm or bust! The ‘myth’ is that one person or company using the term Data Science is not necessarily the same as another person or company using the same term. Depending on organizational capacity, individual experience, educational background, and many other variables, we might be using the same name for different animals.Tl;dr: don’t assume a common understanding across hiring managers, recruiters, and practitioners. Look instead for specifics of tools, techniques, methodologies, and outputs. That being said, this one falls in the “plausible” category, because it may actually be true in some circumstances, while false in others.PLAUSIBLEvia GIPHY\\xa0Myth #4: Data Science curricula are well-defined and consistent.We recommend checking this one out for yourself! A quick google search for bootcamps, master’s degree programs, and online courses will reveal that different organizations teach different things. There is no commonly accepted framework for teaching data science! Some focus more on the engineering, others focus more on machine learning, some think deep learning is foundational, and some prefer to use R. Our curriculum was built through employer interviews, practitioner interviews, market research, and company partnerships. But we’re based in San Antonio! A bootcamp in New York might follow the same process and end up with a different syllabus. Keep in mind, whatever your learning path, that there will be gaps in your learning. The most important thing is to recognize those gaps.BUSTEDvia GIPHY\\xa0Myth #5: If I want to be a data scientist, I just need to learn Python or R.This one is common and dangerous! Just like statistics, programming languages like Python and R are tools. They’re just pieces of a larger puzzle! Knowing Python without understanding the data science pipeline is like knowing how to build a floor without having a floor plan. Of course, these are valuable technical skills that give you a leg up, but they’re second in importance to asking the right questions, knowing what tools to use when, and communicating your findings.BUSTEDvia GIPHYStill have questions? Reach out to us at (210) 802-7289 or DataScience@codeup.com! Want to learn more about Data Science? Check out our recent blog posts at tribucodeup.wpengine.com/blog. And of course, if data science gets you excited, get started with us today at tribucodeup.wpengine.com/apply![rev_slider alias=”footer”][/rev_slider]'"
      ]
     },
     "execution_count": 20,
     "metadata": {},
     "output_type": "execute_result"
    }
   ],
   "source": [
    "article.text"
   ]
  },
  {
   "cell_type": "markdown",
   "metadata": {},
   "source": [
    "- https://codeup.com/data-science-vs-data-analytics-whats-the-difference/"
   ]
  },
  {
   "cell_type": "code",
   "execution_count": 21,
   "metadata": {},
   "outputs": [],
   "source": [
    "url = 'https://codeup.com/data-science-vs-data-analytics-whats-the-difference/'\n",
    "headers = {'User-Agent' : 'Codeup Data Science'}\n",
    "response = get(url, headers=headers)"
   ]
  },
  {
   "cell_type": "code",
   "execution_count": 22,
   "metadata": {},
   "outputs": [],
   "source": [
    "# Make a soup variable holding the response content\n",
    "soup = BeautifulSoup(response.content, 'html.parser')"
   ]
  },
  {
   "cell_type": "code",
   "execution_count": 24,
   "metadata": {
    "scrolled": true
   },
   "outputs": [
    {
     "data": {
      "text/plain": [
       "'By Dimitri AntoniouA week ago, Codeup launched our immersive Data Science career accelerator! With our first class kicking off in February and only 25 seats available, we’ve been answering a lot of questions from prospective students. One in particular has come up so many times we decided to dedicate a blog post to it. What is the difference between data science and data analytics?First, let’s define some of our terms! Take a look at this blog to understand what Data Science is. In short, it is a method of turning raw data into action, leading to a desired outcome. Big Data refers to data sets that are large and complex, usually exceeding the capacity of computers and normal processing power to deal with. Machine Learning is the process of ‘learning’ underlying patterns of data in order to automate the extraction of intelligence from that data.Now, let’s look at the data pipeline that data scientists work through to reach the actionable insights and outcomes we mentioned:We start by collecting data, which may come from social media channels, network logs, financials, employee records, or more.We then process that data into usable information stored in databases or streamed.Next, we look back on the history of that data to summarize, describe, and explain, turning the data into meaningful knowledge. Here we’re primarily using mathematics, statistics, and visualization methods.Now we convert that knowledge into intelligence, seeking to predict future events so that we can make decisions in the present. This is where practitioners will introduce mathematical/statistical modeling through machine learning to their data.Finally, we enable action by building automations, running tests, building visualizations, monitoring new data, etc.Data professionals work at different stages of the spectrum to move data through the pipeline. On the left, Big Data Engineers specialize in collecting, storing, and processing data, getting it from Data to Information. In the middle, analysts work to understand and convert that information to knowledge. Lastly, a Machine Learning Engineer utilizes machine learning algorithms to turn intelligence into action by building automations, visualizations, recommendations, and predictions.Data Scientists span multiple stages of this pipeline, from information to action. They will spend about 70% of their time wrangling data in the information stage. They will conduct statistical analysis to derive knowledge. Lastly, they predict future events and build automations using machine learning.For those technical folk out there, data science is to data engineering or machine learning engineering as full-stack development is to front-end or back-end development. For the non-technical folk, data science is the umbrella term that houses data analytics, machine learning, and other data professions.So what’s the biggest difference between a data analyst and a data scientist? Data scientists utilize computer programming and machine learning in addition to mathematics and statistics. Still have questions? Reach out to us at (210) 802-7289 or DataScience@codeup.com! Wondering which of Codeup’s programs is right for you? We’ve got you covered. And of course, if data science gets you excited, get started with us today at tribucodeup.wpengine.com/apply!'"
      ]
     },
     "execution_count": 24,
     "metadata": {},
     "output_type": "execute_result"
    }
   ],
   "source": [
    "article = soup.find('div', itemprop='text').text\n",
    "article"
   ]
  },
  {
   "cell_type": "markdown",
   "metadata": {},
   "source": [
    "- https://codeup.com/10-tips-to-crush-it-at-the-sa-tech-job-fair/"
   ]
  },
  {
   "cell_type": "code",
   "execution_count": 34,
   "metadata": {},
   "outputs": [],
   "source": [
    "def get_article_text():\n",
    "    # if we already have the data, read it locally\n",
    "    if os.path.exists('article.txt'):\n",
    "        with open('article.txt') as f:\n",
    "            return f.read()\n",
    "\n",
    "    # otherwise go fetch the data\n",
    "    url = 'https://codeup.com/10-tips-to-crush-it-at-the-sa-tech-job-fair/'\n",
    "    headers = {'User-Agent': 'Codeup Data Science'}\n",
    "    response = get(url, headers=headers)\n",
    "    soup = BeautifulSoup(response.text)\n",
    "    article = soup.find('div', class_='jupiterx-post-content')\n",
    "\n",
    "    # save it for next time\n",
    "    with open('article.txt', 'w') as f:\n",
    "        f.write(article.text)\n",
    "\n",
    "    return article.text"
   ]
  },
  {
   "cell_type": "code",
   "execution_count": 37,
   "metadata": {},
   "outputs": [],
   "source": [
    "article_job_fair = get_article_text()"
   ]
  },
  {
   "cell_type": "code",
   "execution_count": 36,
   "metadata": {
    "scrolled": true
   },
   "outputs": [
    {
     "data": {
      "text/plain": [
       "'10 Tips to Crush It at the SA Tech Job FairSA Tech Job FairThe third bi-annual San Antonio Tech Job Fair is just around the corner. Over 25 companies will be at The Jack Guenther Pavilion\\xa0on April 10th, and they are hungry for new tech team members!At the job fair, companies want to quickly source a list of new talent leads. AKA they need to find qualified employees they can begin interviewing for jobs. Recruiters will represent their organization at tables with informational handouts and company swag. Your goal at a job fair is to set yourself apart from other candidates and ensure your name makes it to the top of those lead lists.Think of your interaction with the company as a mini screening interview. The company rep will subtly evaluate basic qualities like your professionalism, communication and interpersonal skills, work experience, and interest level in the organization. Job fairs are also an opportunity for you to gain information about companies that may not be easily accessible online. \\xa0At Codeup, we’re passionate about bridging the gap between talent and demand, so we’ve outlined 10 tips to ensure you bring your A-game and leave a lasting impression!10 Tips for Totally Crushing it at the SA Tech Job FairUse keywords to describe your skills, but don’t go overboard. You’ll probably be talking to a recruiter or talent acquisition specialist. As a technical candidate, recognize these individuals usually aren’t developers or network administrators. They know terms like “JavaScript” and “Apache,” but haven’t written a line of code or spun up a server, so don’t get too caught up in industry jargon.Research the companies ahead of time. Review the list of attending companies and make sure you know what the company does and whether or not they hire people in your desired role. Look up recent news on the company and mention it during your conversation.Define your own goals for the job fair. Are you searching for a specific type of role or company culture? What matters most in your job search? Are there companies you want to prioritize? \\xa0Develop a game plan and be intentional with your time.Prepare a stellar résumé. Bring about 20 copies of your résumé to the event, printed on nice paper. We won’t cover resume writing in this post, but there are a plethora of online resources you can consult. For job fairs, don’t worry about cover letters.Polish your online profiles. If recruiters have a copy of your resume, you can be sure they will stalk you online soon. Make sure your online presence is professional and appropriate. A good place to start is by Googling yourself. Update your LinkedIn, and clean up any social media profiles.Craft a 30-60 second elevator pitch. You may only have a few minutes with an employer. What will you say if they ask, “Tell me about yourself?” Consider structuring your pitch like this: Who you are + What you do + What your goals are + Why that matters to the company.Don’t show up in a t-shirt, but trade in your suit for something more chill. Always keep it professional, but remember: tech is typically more casual than other industries. You’ll likely feel out of place if you look like you belong on Wall St., so refer to this guide on dressing for tech interviews.Don’t forget the basics. Start and end each conversation with a firm handshake. Make eye contact while conversing. Smile! Thank the recruiter before you move on to the next table.Ask educated questions. Don’t waste valuable face time with recruiters by asking questions like, “What does [Insert Company here] do?” They hate that question! Instead, try some of these:What are the top 3-5 examples of knowledge, skills, and abilities you look for in candidates?What’s the best advice you have for someone who wants to work here?What is your interview process like?Are you hiring for any roles not currently listed on your websites?Follow up. Collect business cards from each table. The next day, send a short note expressing your interest in the company’s opportunities and thanking the recruiter for his or her time.RSVP for the SA Tech Job Fair taking place at the Jack Guenther Pavilion – September 18th starting at 4 pm.\\xa0'"
      ]
     },
     "execution_count": 36,
     "metadata": {},
     "output_type": "execute_result"
    }
   ],
   "source": [
    "article_job_fair"
   ]
  },
  {
   "cell_type": "markdown",
   "metadata": {},
   "source": [
    "- https://codeup.com/competitor-bootcamps-are-closing-is-the-model-in-danger/"
   ]
  },
  {
   "cell_type": "code",
   "execution_count": 40,
   "metadata": {},
   "outputs": [],
   "source": [
    "def get_article_text():\n",
    "    # if we already have the data, read it locally\n",
    "    if os.path.exists('article.txt'):\n",
    "        with open('article.txt') as f:\n",
    "            return f.read()\n",
    "\n",
    "    # otherwise go fetch the data\n",
    "    url = 'https://codeup.com/competitor-bootcamps-are-closing-is-the-model-in-danger/'\n",
    "    headers = {'User-Agent': 'Codeup Data Science'}\n",
    "    response = get(url, headers=headers)\n",
    "    soup = BeautifulSoup(response.text)\n",
    "    article = soup.find('div', class_='jupiterx-post-content')\n",
    "\n",
    "    # save it for next time\n",
    "    with open('article.txt', 'w') as f:\n",
    "        f.write(article.text)\n",
    "\n",
    "    return article.text"
   ]
  },
  {
   "cell_type": "code",
   "execution_count": 42,
   "metadata": {},
   "outputs": [],
   "source": [
    "bootcamp_article = get_article_text()"
   ]
  },
  {
   "cell_type": "code",
   "execution_count": 43,
   "metadata": {
    "scrolled": true
   },
   "outputs": [
    {
     "data": {
      "text/plain": [
       "'Competitor Bootcamps Are Closing. Is the Model in Danger?\\xa0Is the programming bootcamp model in danger?In recent news, DevBootcamp and The Iron Yard announced that they are closing their doors. This is big news. DevBootcamp was the first programming bootcamp model and The Iron Yard is a national player with 15 campuses across the U.S. In both cases, the companies cited an unsustainable business model. Does that mean the boot-camp model is dead?tl;dr “Nope!”Bootcamps exist because traditional education models have failed to provide students job-ready skills for the 21st century. Students demand better employment options from their education. Employers demand skilled and job ready candidates. Big Education’s failure to meet those needs through traditional methods created the fertile ground for the new business model of the programming bootcamp.Education giant Kaplan and Apollo Education Group (owner of University of Phoenix) bought their way into this new educational model when they purchased The Iron Yard and DevBootcamp. They purchased their competition with the intent to scale up the model. Unfortunately, Big Education is too habituated to coming up short for students. They bought the upstarts that challenged them, tried making changes to run those bootcamps in the “Big Education” way, and, sadly, they’ve closed the doors when they realized that scaling education is more challenging when student outcomes truly matter.The bootcamp model is still new and there will be plenty consolidation, competition, and changes in the future. This model is based on actually being adaptive, innovative, and sustainable. And there’s always room for innovation.What we’ve learned at Codeup…Education is challenging to scale.Prioritizing quality over growth pays off.What we’re doing at Codeup…Higher standards in our application process are leading to better student outcomes.Our reputation and commitment to quality is opening new doors to previously uninterested/unreachable employers.In the beginning, the majority of Codeup graduates went to work with startups and small businesses. We’re now seeing a larger amount of our graduates place at medium to large sized businesses.Demand is growing and employers are learning that the results are in the graduates.Codeup’s model is sustainable, inclusive, and works.Call or contact us today to see how Codeup’s commitment to quality and approach to being a career accelerator can make a profound difference in your life.'"
      ]
     },
     "execution_count": 43,
     "metadata": {},
     "output_type": "execute_result"
    }
   ],
   "source": [
    "bootcamp_article"
   ]
  },
  {
   "cell_type": "markdown",
   "metadata": {},
   "source": [
    "Encapsulate your work in a function named get_blog_articles that will return a list of dictionaries, with each dictionary representing one article. The shape of each dictionary should look like this:\n",
    "\n",
    ">"
   ]
  },
  {
   "cell_type": "code",
   "execution_count": 45,
   "metadata": {},
   "outputs": [
    {
     "data": {
      "text/plain": [
       "'Data Science VS Data Analytics: What’s The Difference? - Codeup'"
      ]
     },
     "execution_count": 45,
     "metadata": {},
     "output_type": "execute_result"
    }
   ],
   "source": [
    "soup.title.string"
   ]
  },
  {
   "cell_type": "code",
   "execution_count": 88,
   "metadata": {},
   "outputs": [],
   "source": [
    "def get_article_text(url):\n",
    "    url = url\n",
    "    headers = {'User-Agent': 'Codeup Data Science'}\n",
    "    response = get(url, headers=headers)\n",
    "    soup = BeautifulSoup(response.text)\n",
    "    article_text = soup.find('div', itemprop='text').text\n",
    "    article_header = soup.title.string\n",
    "    \n",
    "    blog_dict = {'title' : article_header, 'content' : article_text}\n",
    "    \n",
    "    return blog_dict\n",
    "\n",
    "def store_blog_locally(blog_dict):\n",
    "    with open('blog_post.txt', 'a') as f:\n",
    "        f.write(json.dumps(blog_dict))\n",
    "        \n",
    "\n",
    "def get_blog_articles(url):\n",
    "    blog_dict = get_article_text(url)\n",
    "    store_blog_locally(blog_dict)\n",
    "    blog_post = open('blog_post.txt', 'r')\n",
    "    return blog_post.read()\n",
    "    \n",
    "    \n",
    "    \n",
    "    \n",
    "    \n",
    "    \n",
    "    \n",
    "    \n",
    "    "
   ]
  },
  {
   "cell_type": "code",
   "execution_count": 75,
   "metadata": {
    "scrolled": true
   },
   "outputs": [
    {
     "data": {
      "text/plain": [
       "{'title': '10 Tips to Crush It at the SA Tech Job Fair - Codeup',\n",
       " 'content': '10 Tips to Crush It at the SA Tech Job FairSA Tech Job FairThe third bi-annual San Antonio Tech Job Fair is just around the corner. Over 25 companies will be at The Jack Guenther Pavilion\\xa0on April 10th, and they are hungry for new tech team members!At the job fair, companies want to quickly source a list of new talent leads. AKA they need to find qualified employees they can begin interviewing for jobs. Recruiters will represent their organization at tables with informational handouts and company swag. Your goal at a job fair is to set yourself apart from other candidates and ensure your name makes it to the top of those lead lists.Think of your interaction with the company as a mini screening interview. The company rep will subtly evaluate basic qualities like your professionalism, communication and interpersonal skills, work experience, and interest level in the organization. Job fairs are also an opportunity for you to gain information about companies that may not be easily accessible online. \\xa0At Codeup, we’re passionate about bridging the gap between talent and demand, so we’ve outlined 10 tips to ensure you bring your A-game and leave a lasting impression!10 Tips for Totally Crushing it at the SA Tech Job FairUse keywords to describe your skills, but don’t go overboard. You’ll probably be talking to a recruiter or talent acquisition specialist. As a technical candidate, recognize these individuals usually aren’t developers or network administrators. They know terms like “JavaScript” and “Apache,” but haven’t written a line of code or spun up a server, so don’t get too caught up in industry jargon.Research the companies ahead of time. Review the list of attending companies and make sure you know what the company does and whether or not they hire people in your desired role. Look up recent news on the company and mention it during your conversation.Define your own goals for the job fair. Are you searching for a specific type of role or company culture? What matters most in your job search? Are there companies you want to prioritize? \\xa0Develop a game plan and be intentional with your time.Prepare a stellar résumé. Bring about 20 copies of your résumé to the event, printed on nice paper. We won’t cover resume writing in this post, but there are a plethora of online resources you can consult. For job fairs, don’t worry about cover letters.Polish your online profiles. If recruiters have a copy of your resume, you can be sure they will stalk you online soon. Make sure your online presence is professional and appropriate. A good place to start is by Googling yourself. Update your LinkedIn, and clean up any social media profiles.Craft a 30-60 second elevator pitch. You may only have a few minutes with an employer. What will you say if they ask, “Tell me about yourself?” Consider structuring your pitch like this: Who you are + What you do + What your goals are + Why that matters to the company.Don’t show up in a t-shirt, but trade in your suit for something more chill. Always keep it professional, but remember: tech is typically more casual than other industries. You’ll likely feel out of place if you look like you belong on Wall St., so refer to this guide on dressing for tech interviews.Don’t forget the basics. Start and end each conversation with a firm handshake. Make eye contact while conversing. Smile! Thank the recruiter before you move on to the next table.Ask educated questions. Don’t waste valuable face time with recruiters by asking questions like, “What does [Insert Company here] do?” They hate that question! Instead, try some of these:What are the top 3-5 examples of knowledge, skills, and abilities you look for in candidates?What’s the best advice you have for someone who wants to work here?What is your interview process like?Are you hiring for any roles not currently listed on your websites?Follow up. Collect business cards from each table. The next day, send a short note expressing your interest in the company’s opportunities and thanking the recruiter for his or her time.RSVP for the SA Tech Job Fair taking place at the Jack Guenther Pavilion – September 18th starting at 4 pm.\\xa0'}"
      ]
     },
     "execution_count": 75,
     "metadata": {},
     "output_type": "execute_result"
    }
   ],
   "source": [
    "read = get_article_text('https://codeup.com/10-tips-to-crush-it-at-the-sa-tech-job-fair/')\n",
    "read"
   ]
  },
  {
   "cell_type": "code",
   "execution_count": 76,
   "metadata": {},
   "outputs": [],
   "source": [
    "with open('file.txt', 'w') as file:\n",
    "     file.write(json.dumps(read))"
   ]
  },
  {
   "cell_type": "code",
   "execution_count": null,
   "metadata": {},
   "outputs": [],
   "source": []
  },
  {
   "cell_type": "code",
   "execution_count": 89,
   "metadata": {
    "scrolled": true
   },
   "outputs": [
    {
     "data": {
      "text/plain": [
       "'{\"title\": \"10 Tips to Crush It at the SA Tech Job Fair - Codeup\", \"content\": \"10 Tips to Crush It at the SA Tech Job FairSA Tech Job FairThe third bi-annual San Antonio Tech Job Fair is just around the corner. Over 25 companies will be at The Jack Guenther Pavilion\\\\u00a0on April 10th, and they are hungry for new tech team members!At the job fair, companies want to quickly source a list of new talent leads. AKA they need to find qualified employees they can begin interviewing for jobs. Recruiters will represent their organization at tables with informational handouts and company swag. Your goal at a job fair is to set yourself apart from other candidates and ensure your name makes it to the top of those lead lists.Think of your interaction with the company as a mini screening interview. The company rep will subtly evaluate basic qualities like your professionalism, communication and interpersonal skills, work experience, and interest level in the organization. Job fairs are also an opportunity for you to gain information about companies that may not be easily accessible online. \\\\u00a0At Codeup, we\\\\u2019re passionate about bridging the gap between talent and demand, so we\\\\u2019ve outlined 10 tips to ensure you bring your A-game and leave a lasting impression!10 Tips for Totally Crushing it at the SA Tech Job FairUse keywords to describe your skills, but don\\\\u2019t go overboard. You\\\\u2019ll probably be talking to a recruiter or talent acquisition specialist. As a technical candidate, recognize these individuals usually aren\\\\u2019t developers or network administrators. They know terms like \\\\u201cJavaScript\\\\u201d and \\\\u201cApache,\\\\u201d but haven\\\\u2019t written a line of code or spun up a server, so don\\\\u2019t get too caught up in industry jargon.Research the companies ahead of time. Review the list of attending companies and make sure you know what the company does and whether or not they hire people in your desired role. Look up recent news on the company and mention it during your conversation.Define your own goals for the job fair. Are you searching for a specific type of role or company culture? What matters most in your job search? Are there companies you want to prioritize? \\\\u00a0Develop a game plan and be intentional with your time.Prepare a stellar r\\\\u00e9sum\\\\u00e9. Bring about 20 copies of your r\\\\u00e9sum\\\\u00e9 to the event, printed on nice paper. We won\\\\u2019t cover resume writing in this post, but there are a plethora of online resources you can consult. For job fairs, don\\\\u2019t worry about cover letters.Polish your online profiles. If recruiters have a copy of your resume, you can be sure they will stalk you online soon. Make sure your online presence is professional and appropriate. A good place to start is by Googling yourself. Update your LinkedIn, and clean up any social media profiles.Craft a 30-60 second elevator pitch. You may only have a few minutes with an employer. What will you say if they ask, \\\\u201cTell me about yourself?\\\\u201d Consider structuring your pitch like this: Who you are + What you do + What your goals are + Why that matters to the company.Don\\\\u2019t show up in a t-shirt, but trade in your suit for something more chill. Always keep it professional, but remember: tech is typically more casual than other industries. You\\\\u2019ll likely feel out of place if you look like you belong on Wall St., so refer to this guide on dressing for tech interviews.Don\\\\u2019t forget the basics. Start and end each conversation with a firm handshake. Make eye contact while conversing. Smile! Thank the recruiter before you move on to the next table.Ask educated questions. Don\\\\u2019t waste valuable face time with recruiters by asking questions like, \\\\u201cWhat does [Insert Company here] do?\\\\u201d They hate that question! Instead, try some of these:What are the top 3-5 examples of knowledge, skills, and abilities you look for in candidates?What\\\\u2019s the best advice you have for someone who wants to work here?What is your interview process like?Are you hiring for any roles not currently listed on your websites?Follow up. Collect business cards from each table. The next day, send a short note expressing your interest in the company\\\\u2019s opportunities and thanking the recruiter for his or her time.RSVP for the SA Tech Job Fair taking place at the Jack Guenther Pavilion \\\\u2013 September 18th starting at 4 pm.\\\\u00a0\"}{\"title\": \"10 Tips to Crush It at the SA Tech Job Fair - Codeup\", \"content\": \"10 Tips to Crush It at the SA Tech Job FairSA Tech Job FairThe third bi-annual San Antonio Tech Job Fair is just around the corner. Over 25 companies will be at The Jack Guenther Pavilion\\\\u00a0on April 10th, and they are hungry for new tech team members!At the job fair, companies want to quickly source a list of new talent leads. AKA they need to find qualified employees they can begin interviewing for jobs. Recruiters will represent their organization at tables with informational handouts and company swag. Your goal at a job fair is to set yourself apart from other candidates and ensure your name makes it to the top of those lead lists.Think of your interaction with the company as a mini screening interview. The company rep will subtly evaluate basic qualities like your professionalism, communication and interpersonal skills, work experience, and interest level in the organization. Job fairs are also an opportunity for you to gain information about companies that may not be easily accessible online. \\\\u00a0At Codeup, we\\\\u2019re passionate about bridging the gap between talent and demand, so we\\\\u2019ve outlined 10 tips to ensure you bring your A-game and leave a lasting impression!10 Tips for Totally Crushing it at the SA Tech Job FairUse keywords to describe your skills, but don\\\\u2019t go overboard. You\\\\u2019ll probably be talking to a recruiter or talent acquisition specialist. As a technical candidate, recognize these individuals usually aren\\\\u2019t developers or network administrators. They know terms like \\\\u201cJavaScript\\\\u201d and \\\\u201cApache,\\\\u201d but haven\\\\u2019t written a line of code or spun up a server, so don\\\\u2019t get too caught up in industry jargon.Research the companies ahead of time. Review the list of attending companies and make sure you know what the company does and whether or not they hire people in your desired role. Look up recent news on the company and mention it during your conversation.Define your own goals for the job fair. Are you searching for a specific type of role or company culture? What matters most in your job search? Are there companies you want to prioritize? \\\\u00a0Develop a game plan and be intentional with your time.Prepare a stellar r\\\\u00e9sum\\\\u00e9. Bring about 20 copies of your r\\\\u00e9sum\\\\u00e9 to the event, printed on nice paper. We won\\\\u2019t cover resume writing in this post, but there are a plethora of online resources you can consult. For job fairs, don\\\\u2019t worry about cover letters.Polish your online profiles. If recruiters have a copy of your resume, you can be sure they will stalk you online soon. Make sure your online presence is professional and appropriate. A good place to start is by Googling yourself. Update your LinkedIn, and clean up any social media profiles.Craft a 30-60 second elevator pitch. You may only have a few minutes with an employer. What will you say if they ask, \\\\u201cTell me about yourself?\\\\u201d Consider structuring your pitch like this: Who you are + What you do + What your goals are + Why that matters to the company.Don\\\\u2019t show up in a t-shirt, but trade in your suit for something more chill. Always keep it professional, but remember: tech is typically more casual than other industries. You\\\\u2019ll likely feel out of place if you look like you belong on Wall St., so refer to this guide on dressing for tech interviews.Don\\\\u2019t forget the basics. Start and end each conversation with a firm handshake. Make eye contact while conversing. Smile! Thank the recruiter before you move on to the next table.Ask educated questions. Don\\\\u2019t waste valuable face time with recruiters by asking questions like, \\\\u201cWhat does [Insert Company here] do?\\\\u201d They hate that question! Instead, try some of these:What are the top 3-5 examples of knowledge, skills, and abilities you look for in candidates?What\\\\u2019s the best advice you have for someone who wants to work here?What is your interview process like?Are you hiring for any roles not currently listed on your websites?Follow up. Collect business cards from each table. The next day, send a short note expressing your interest in the company\\\\u2019s opportunities and thanking the recruiter for his or her time.RSVP for the SA Tech Job Fair taking place at the Jack Guenther Pavilion \\\\u2013 September 18th starting at 4 pm.\\\\u00a0\"}{\"title\": \"10 Tips to Crush It at the SA Tech Job Fair - Codeup\", \"content\": \"10 Tips to Crush It at the SA Tech Job FairSA Tech Job FairThe third bi-annual San Antonio Tech Job Fair is just around the corner. Over 25 companies will be at The Jack Guenther Pavilion\\\\u00a0on April 10th, and they are hungry for new tech team members!At the job fair, companies want to quickly source a list of new talent leads. AKA they need to find qualified employees they can begin interviewing for jobs. Recruiters will represent their organization at tables with informational handouts and company swag. Your goal at a job fair is to set yourself apart from other candidates and ensure your name makes it to the top of those lead lists.Think of your interaction with the company as a mini screening interview. The company rep will subtly evaluate basic qualities like your professionalism, communication and interpersonal skills, work experience, and interest level in the organization. Job fairs are also an opportunity for you to gain information about companies that may not be easily accessible online. \\\\u00a0At Codeup, we\\\\u2019re passionate about bridging the gap between talent and demand, so we\\\\u2019ve outlined 10 tips to ensure you bring your A-game and leave a lasting impression!10 Tips for Totally Crushing it at the SA Tech Job FairUse keywords to describe your skills, but don\\\\u2019t go overboard. You\\\\u2019ll probably be talking to a recruiter or talent acquisition specialist. As a technical candidate, recognize these individuals usually aren\\\\u2019t developers or network administrators. They know terms like \\\\u201cJavaScript\\\\u201d and \\\\u201cApache,\\\\u201d but haven\\\\u2019t written a line of code or spun up a server, so don\\\\u2019t get too caught up in industry jargon.Research the companies ahead of time. Review the list of attending companies and make sure you know what the company does and whether or not they hire people in your desired role. Look up recent news on the company and mention it during your conversation.Define your own goals for the job fair. Are you searching for a specific type of role or company culture? What matters most in your job search? Are there companies you want to prioritize? \\\\u00a0Develop a game plan and be intentional with your time.Prepare a stellar r\\\\u00e9sum\\\\u00e9. Bring about 20 copies of your r\\\\u00e9sum\\\\u00e9 to the event, printed on nice paper. We won\\\\u2019t cover resume writing in this post, but there are a plethora of online resources you can consult. For job fairs, don\\\\u2019t worry about cover letters.Polish your online profiles. If recruiters have a copy of your resume, you can be sure they will stalk you online soon. Make sure your online presence is professional and appropriate. A good place to start is by Googling yourself. Update your LinkedIn, and clean up any social media profiles.Craft a 30-60 second elevator pitch. You may only have a few minutes with an employer. What will you say if they ask, \\\\u201cTell me about yourself?\\\\u201d Consider structuring your pitch like this: Who you are + What you do + What your goals are + Why that matters to the company.Don\\\\u2019t show up in a t-shirt, but trade in your suit for something more chill. Always keep it professional, but remember: tech is typically more casual than other industries. You\\\\u2019ll likely feel out of place if you look like you belong on Wall St., so refer to this guide on dressing for tech interviews.Don\\\\u2019t forget the basics. Start and end each conversation with a firm handshake. Make eye contact while conversing. Smile! Thank the recruiter before you move on to the next table.Ask educated questions. Don\\\\u2019t waste valuable face time with recruiters by asking questions like, \\\\u201cWhat does [Insert Company here] do?\\\\u201d They hate that question! Instead, try some of these:What are the top 3-5 examples of knowledge, skills, and abilities you look for in candidates?What\\\\u2019s the best advice you have for someone who wants to work here?What is your interview process like?Are you hiring for any roles not currently listed on your websites?Follow up. Collect business cards from each table. The next day, send a short note expressing your interest in the company\\\\u2019s opportunities and thanking the recruiter for his or her time.RSVP for the SA Tech Job Fair taking place at the Jack Guenther Pavilion \\\\u2013 September 18th starting at 4 pm.\\\\u00a0\"}'"
      ]
     },
     "execution_count": 89,
     "metadata": {},
     "output_type": "execute_result"
    }
   ],
   "source": [
    "read = get_blog_articles('https://codeup.com/10-tips-to-crush-it-at-the-sa-tech-job-fair/')\n",
    "\n",
    "read"
   ]
  },
  {
   "cell_type": "markdown",
   "metadata": {},
   "source": [
    ">{\n",
    "    'title': 'the title of the article',\n",
    "    'content': 'the full text content of the article'\n",
    "}\n"
   ]
  },
  {
   "cell_type": "markdown",
   "metadata": {},
   "source": [
    "Plus any additional properties you think might be helpful."
   ]
  },
  {
   "cell_type": "markdown",
   "metadata": {},
   "source": [
    "Bonus:\n",
    "\n",
    "- Scrape the text of all the articles linked on codeup's blog page."
   ]
  },
  {
   "cell_type": "code",
   "execution_count": 90,
   "metadata": {},
   "outputs": [],
   "source": [
    "read = get_blog_articles('https://codeup.com/codeups-data-science-career-accelerator-is-here/')"
   ]
  },
  {
   "cell_type": "code",
   "execution_count": 93,
   "metadata": {},
   "outputs": [],
   "source": [
    "read = get_blog_articles('https://codeup.com/data-science-myths/')                      \n",
    "                         \n",
    "                         \n",
    "                         "
   ]
  },
  {
   "cell_type": "code",
   "execution_count": 94,
   "metadata": {},
   "outputs": [],
   "source": [
    "read = get_blog_articles('https://codeup.com/data-science-vs-data-analytics-whats-the-difference/')"
   ]
  },
  {
   "cell_type": "code",
   "execution_count": 95,
   "metadata": {},
   "outputs": [],
   "source": [
    "read = get_blog_articles('https://codeup.com/10-tips-to-crush-it-at-the-sa-tech-job-fair/')"
   ]
  },
  {
   "cell_type": "code",
   "execution_count": 96,
   "metadata": {},
   "outputs": [],
   "source": [
    "read = get_blog_articles('https://codeup.com/competitor-bootcamps-are-closing-is-the-model-in-danger/')"
   ]
  },
  {
   "cell_type": "code",
   "execution_count": 97,
   "metadata": {
    "scrolled": true
   },
   "outputs": [
    {
     "data": {
      "text/plain": [
       "'{\"title\": \"Codeup\\\\u2019s Data Science Career Accelerator is Here! - Codeup\", \"content\": \"The rumors are true! The time has arrived. Codeup has officially opened applications to our new Data Science career accelerator, with only 25 seats available! This immersive program is one of a kind in San Antonio, and will help you land a job in\\\\u00a0Glassdoor\\\\u2019s #1 Best Job in America.Data Science is a method of providing actionable intelligence from data.\\\\u00a0The data revolution has hit San Antonio,\\\\u00a0resulting in an explosion in Data Scientist positions\\\\u00a0across companies like USAA, Accenture, Booz Allen Hamilton, and HEB. We\\\\u2019ve even seen\\\\u00a0UTSA invest $70 M for a Cybersecurity Center and School of Data Science.\\\\u00a0We built a program to specifically meet the growing demands of this industry.Our program will be 18 weeks long, full-time, hands-on, and project-based. Our curriculum development and instruction is led by Senior Data Scientist, Maggie Giust, who has worked at HEB, Capital Group, and Rackspace, along with input from dozens of practitioners and hiring partners. Students will work with real data sets, realistic problems, and the entire data science pipeline from collection to deployment. They will receive professional development training in resume writing, interviewing, and continuing education to prepare for a smooth transition to the workforce.We focus on applied data science for immediate impact and ROI in a business, which is how we can back it all up with a 6 month tuition refund guarantee \\\\u2013 just like our existing Web Dev program. We\\\\u2019re focusing on Data Science with Python, SQL, and ML, covered in\\\\u00a014 modules: 1) Fundamentals; 2) Applied statistics; 3) SQL; 4) Python; 5) Supervised machine learning \\\\u2013 regression; 6) Supervised machine learning \\\\u2013 classification; 7) Unsupervised machine learning \\\\u2013 clustering; 8) Time series analysis; 9) Anomaly detection; 10) Natural language processing; 11) Distributed machine learning; 12) Advanced topics (deep learning, NoSQL, cloud deployment, etc.); 13) Storytelling with data; and 14) Domain expertise development.Applications are now open\\\\u00a0for Codeup\\\\u2019s first Data Science cohort, which will start class on February 4, 2019. Hurry \\\\u2013 there are only 25 seats available! To further our mission of cultivating inclusive growth, scholarships will be available to women, minorities, LGBTQIA+ individuals, veterans, first responders, and people relocating to San Antonio.If you want to learn about joining our program or hiring our graduates, email datascience@codeup.com!\"}{\"title\": \"Data Science Myths - Codeup\", \"content\": \"By Dimitri Antoniou and Maggie GiustData Science, Big Data, Machine Learning, NLP, Neural Networks\\\\u2026these buzzwords have rapidly spread into mainstream use over the last few years. Unfortunately, definitions are varied and sources of truth are limited. Data Scientists are in fact not magical unicorn wizards who can snap their fingers and turn a business around! Today, we\\\\u2019ll take a cue from our favorite Mythbusters to tackle some common myths and misconceptions in the field of Data Science.via GIPHYMyth #1: Data Science = StatisticsAt first glance, this one doesn\\\\u2019t sound unreasonable. Statistics is defined as, \\\\u201cA branch of mathematics dealing with the collection, analysis, interpretation, and presentation of masses of numerical data.\\\\u201d That sounds a lot like our definition of Data Science: a method of drawing actionable intelligence from data. In truth, statistics is actually one small piece of Data Science. As our Senior Data Scientist puts it, \\\\u201cStatistics forces us to make assumptions about the nature of the relationship between variables, the distribution of the data, etc.\\\\u201d In the traditional Data Science venn diagram, you\\\\u2019ll see that math/stats make up \\\\u2153 of a working professional. These are tools and skills to leverage, but data science itself is about drawing intelligence from data.BUSTED via GIPHY\\\\u00a0Myth #2: Data Scientist = Business/Data AnalystThis one is so common that we wrote a whole post about it! These are separate and different roles within the data field. While a data scientist will often do analytics, their spectrum of work is wider. A data analyst will use structured data to create dashboards and KPIs, while a Data Scientist deals with unstructured and messy data for a range of outputs. If they\\\\u2019re interested, business analysts will often progress to data scientists.BUSTEDvia GIPHY\\\\u00a0Myth #3: Data Science = Data ScienceThis one\\\\u2019s tricky, because it\\\\u2019s impossible to either confirm or bust! The \\\\u2018myth\\\\u2019 is that one person or company using the term Data Science is not necessarily the same as another person or company using the same term. Depending on organizational capacity, individual experience, educational background, and many other variables, we might be using the same name for different animals.Tl;dr: don\\\\u2019t assume a common understanding across hiring managers, recruiters, and practitioners. Look instead for specifics of tools, techniques, methodologies, and outputs. That being said, this one falls in the \\\\u201cplausible\\\\u201d category, because it may actually be true in some circumstances, while false in others.PLAUSIBLEvia GIPHY\\\\u00a0Myth #4: Data Science curricula are well-defined and consistent.We recommend checking this one out for yourself! A quick google search for bootcamps, master\\\\u2019s degree programs, and online courses will reveal that different organizations teach different things. There is no commonly accepted framework for teaching data science! Some focus more on the engineering, others focus more on machine learning, some think deep learning is foundational, and some prefer to use R. Our curriculum was built through employer interviews, practitioner interviews, market research, and company partnerships. But we\\\\u2019re based in San Antonio! A bootcamp in New York might follow the same process and end up with a different syllabus. Keep in mind, whatever your learning path, that there will be gaps in your learning. The most important thing is to recognize those gaps.BUSTEDvia GIPHY\\\\u00a0Myth #5: If I want to be a data scientist, I just need to learn Python or R.This one is common and dangerous! Just like statistics, programming languages like Python and R are tools. They\\\\u2019re just pieces of a larger puzzle! Knowing Python without understanding the data science pipeline is like knowing how to build a floor without having a floor plan. Of course, these are valuable technical skills that give you a leg up, but they\\\\u2019re second in importance to asking the right questions, knowing what tools to use when, and communicating your findings.BUSTEDvia GIPHYStill have questions? Reach out to us at (210) 802-7289 or DataScience@codeup.com! Want to learn more about Data Science? Check out our recent blog posts at tribucodeup.wpengine.com/blog. And of course, if data science gets you excited, get started with us today at tribucodeup.wpengine.com/apply![rev_slider alias=\\\\u201dfooter\\\\u201d][/rev_slider]\"}{\"title\": \"Data Science VS Data Analytics: What\\\\u2019s The Difference? - Codeup\", \"content\": \"By Dimitri AntoniouA week ago, Codeup launched our immersive Data Science career accelerator! With our first class kicking off in February and only 25 seats available, we\\\\u2019ve been answering a lot of questions from prospective students. One in particular has come up so many times we decided to dedicate a blog post to it. What is the difference between data science and data analytics?First, let\\\\u2019s define some of our terms! Take a look at this blog to understand what Data Science is. In short, it is a method of turning raw data into action, leading to a desired outcome. Big Data refers to data sets that are large and complex, usually exceeding the capacity of computers and normal processing power to deal with. Machine Learning is the process of \\\\u2018learning\\\\u2019 underlying patterns of data in order to automate the extraction of intelligence from that data.Now, let\\\\u2019s look at the data pipeline that data scientists work through to reach the actionable insights and outcomes we mentioned:We start by collecting data, which may come from social media channels, network logs, financials, employee records, or more.We then process that data into usable information stored in databases or streamed.Next, we look back on the history of that data to summarize, describe, and explain, turning the data into meaningful knowledge. Here we\\\\u2019re primarily using mathematics, statistics, and visualization methods.Now we convert that knowledge into intelligence, seeking to predict future events so that we can make decisions in the present. This is where practitioners will introduce mathematical/statistical modeling through machine learning to their data.Finally, we enable action by building automations, running tests, building visualizations, monitoring new data, etc.Data professionals work at different stages of the spectrum to move data through the pipeline. On the left, Big Data Engineers specialize in collecting, storing, and processing data, getting it from Data to Information. In the middle, analysts work to understand and convert that information to knowledge. Lastly, a Machine Learning Engineer utilizes machine learning algorithms to turn intelligence into action by building automations, visualizations, recommendations, and predictions.Data Scientists span multiple stages of this pipeline, from information to action. They will spend about 70% of their time wrangling data in the information stage. They will conduct statistical analysis to derive knowledge. Lastly, they predict future events and build automations using machine learning.For those technical folk out there, data science is to data engineering or machine learning engineering as full-stack development is to front-end or back-end development. For the non-technical folk, data science is the umbrella term that houses data analytics, machine learning, and other data professions.So what\\\\u2019s the biggest difference between a data analyst and a data scientist? Data scientists utilize computer programming and machine learning in addition to mathematics and statistics. Still have questions? Reach out to us at (210) 802-7289 or DataScience@codeup.com! Wondering which of Codeup\\\\u2019s programs is right for you? We\\\\u2019ve got you covered. And of course, if data science gets you excited, get started with us today at tribucodeup.wpengine.com/apply!\"}{\"title\": \"10 Tips to Crush It at the SA Tech Job Fair - Codeup\", \"content\": \"10 Tips to Crush It at the SA Tech Job FairSA Tech Job FairThe third bi-annual San Antonio Tech Job Fair is just around the corner. Over 25 companies will be at The Jack Guenther Pavilion\\\\u00a0on April 10th, and they are hungry for new tech team members!At the job fair, companies want to quickly source a list of new talent leads. AKA they need to find qualified employees they can begin interviewing for jobs. Recruiters will represent their organization at tables with informational handouts and company swag. Your goal at a job fair is to set yourself apart from other candidates and ensure your name makes it to the top of those lead lists.Think of your interaction with the company as a mini screening interview. The company rep will subtly evaluate basic qualities like your professionalism, communication and interpersonal skills, work experience, and interest level in the organization. Job fairs are also an opportunity for you to gain information about companies that may not be easily accessible online. \\\\u00a0At Codeup, we\\\\u2019re passionate about bridging the gap between talent and demand, so we\\\\u2019ve outlined 10 tips to ensure you bring your A-game and leave a lasting impression!10 Tips for Totally Crushing it at the SA Tech Job FairUse keywords to describe your skills, but don\\\\u2019t go overboard. You\\\\u2019ll probably be talking to a recruiter or talent acquisition specialist. As a technical candidate, recognize these individuals usually aren\\\\u2019t developers or network administrators. They know terms like \\\\u201cJavaScript\\\\u201d and \\\\u201cApache,\\\\u201d but haven\\\\u2019t written a line of code or spun up a server, so don\\\\u2019t get too caught up in industry jargon.Research the companies ahead of time. Review the list of attending companies and make sure you know what the company does and whether or not they hire people in your desired role. Look up recent news on the company and mention it during your conversation.Define your own goals for the job fair. Are you searching for a specific type of role or company culture? What matters most in your job search? Are there companies you want to prioritize? \\\\u00a0Develop a game plan and be intentional with your time.Prepare a stellar r\\\\u00e9sum\\\\u00e9. Bring about 20 copies of your r\\\\u00e9sum\\\\u00e9 to the event, printed on nice paper. We won\\\\u2019t cover resume writing in this post, but there are a plethora of online resources you can consult. For job fairs, don\\\\u2019t worry about cover letters.Polish your online profiles. If recruiters have a copy of your resume, you can be sure they will stalk you online soon. Make sure your online presence is professional and appropriate. A good place to start is by Googling yourself. Update your LinkedIn, and clean up any social media profiles.Craft a 30-60 second elevator pitch. You may only have a few minutes with an employer. What will you say if they ask, \\\\u201cTell me about yourself?\\\\u201d Consider structuring your pitch like this: Who you are + What you do + What your goals are + Why that matters to the company.Don\\\\u2019t show up in a t-shirt, but trade in your suit for something more chill. Always keep it professional, but remember: tech is typically more casual than other industries. You\\\\u2019ll likely feel out of place if you look like you belong on Wall St., so refer to this guide on dressing for tech interviews.Don\\\\u2019t forget the basics. Start and end each conversation with a firm handshake. Make eye contact while conversing. Smile! Thank the recruiter before you move on to the next table.Ask educated questions. Don\\\\u2019t waste valuable face time with recruiters by asking questions like, \\\\u201cWhat does [Insert Company here] do?\\\\u201d They hate that question! Instead, try some of these:What are the top 3-5 examples of knowledge, skills, and abilities you look for in candidates?What\\\\u2019s the best advice you have for someone who wants to work here?What is your interview process like?Are you hiring for any roles not currently listed on your websites?Follow up. Collect business cards from each table. The next day, send a short note expressing your interest in the company\\\\u2019s opportunities and thanking the recruiter for his or her time.RSVP for the SA Tech Job Fair taking place at the Jack Guenther Pavilion \\\\u2013 September 18th starting at 4 pm.\\\\u00a0\"}{\"title\": \"Competitor Bootcamps Are Closing. Is the Model in Danger? - Codeup\", \"content\": \"Competitor Bootcamps Are Closing. Is the Model in Danger?\\\\u00a0Is the programming bootcamp model in danger?In recent news, DevBootcamp and The Iron Yard announced that they are closing their doors. This is big news. DevBootcamp was the first programming bootcamp model and The Iron Yard is a national player with 15 campuses across the U.S. In both cases, the companies cited an unsustainable business model. Does that mean the boot-camp model is dead?tl;dr \\\\u201cNope!\\\\u201dBootcamps exist because traditional education models have failed to provide students job-ready skills for the 21st century. Students demand better employment options from their education. Employers demand skilled and job ready candidates. Big Education\\\\u2019s failure to meet those needs through traditional methods created the fertile ground for the new business model of the programming bootcamp.Education giant Kaplan and Apollo Education Group (owner of University of Phoenix) bought their way into this new educational model when they purchased The Iron Yard and DevBootcamp. They purchased their competition with the intent to scale up the model. Unfortunately, Big Education is too habituated to coming up short for students. They bought the upstarts that challenged them, tried making changes to run those bootcamps in the \\\\u201cBig Education\\\\u201d way, and, sadly, they\\\\u2019ve closed the doors when they realized that scaling education is more challenging when student outcomes truly matter.The bootcamp model is still new and there will be plenty consolidation, competition, and changes in the future. This model is based on actually being adaptive, innovative, and sustainable. And there\\\\u2019s always room for innovation.What we\\\\u2019ve learned at Codeup\\\\u2026Education is challenging to scale.Prioritizing quality over growth pays off.What we\\\\u2019re doing at Codeup\\\\u2026Higher standards in our application process are leading to better student outcomes.Our reputation and commitment to quality is opening new doors to previously uninterested/unreachable employers.In the beginning, the majority of Codeup graduates went to work with startups and small businesses. We\\\\u2019re now seeing a larger amount of our graduates place at medium to large sized businesses.Demand is growing and employers are learning that the results are in the graduates.Codeup\\\\u2019s model is sustainable, inclusive, and works.Call or contact us today to see how Codeup\\\\u2019s commitment to quality and approach to being a career accelerator can make a profound difference in your life.\"}'"
      ]
     },
     "execution_count": 97,
     "metadata": {},
     "output_type": "execute_result"
    }
   ],
   "source": [
    "read"
   ]
  },
  {
   "cell_type": "markdown",
   "metadata": {},
   "source": [
    "2. News Articles\n",
    "\n",
    "We will now be scraping text data from inshorts, a website that provides a brief overview of many different topics.\n",
    "\n",
    "Write a function that scrapes the news articles for the following topics:\n",
    "\n",
    "- Business\n",
    "- Sports\n",
    "- Technology\n",
    "- Entertainment"
   ]
  },
  {
   "cell_type": "markdown",
   "metadata": {},
   "source": [
    "The end product of this should be a function named get_news_articles that returns a list of dictionaries, where each dictionary has this shape:"
   ]
  },
  {
   "cell_type": "markdown",
   "metadata": {},
   "source": [
    ">{\n",
    "    'title': 'The article title',\n",
    "    'content': 'The article content',\n",
    "    'category': 'business' # for example\n",
    "}"
   ]
  },
  {
   "cell_type": "markdown",
   "metadata": {},
   "source": [
    "Hints:\n",
    "\n",
    "    a. Start by inspecting the website in your browser. Figure out which elements will be useful.\n",
    "    b. Start by creating a function that handles a single article and produces a dictionary like the one above.\n",
    "    c. Next create a function that will find all the articles on a single page and call the function you created in the last step for every article on the page.\n",
    "    d. Now create a function that will use the previous two functions to scrape the articles from all the pages that you need, and do any additional processing that needs to be done."
   ]
  },
  {
   "cell_type": "markdown",
   "metadata": {},
   "source": [
    "3. Bonus: cache the data\n",
    "\n",
    "Write your code such that the acquired data is saved locally in some form or fashion. Your functions that retrieve the data should prefer to read the local data instead of having to make all the requests everytime the function is called. Include a boolean flag in the functions to allow the data to be acquired \"fresh\" from the actual sources (re-writing your local cache)."
   ]
  }
 ],
 "metadata": {
  "kernelspec": {
   "display_name": "Python 3",
   "language": "python",
   "name": "python3"
  },
  "language_info": {
   "codemirror_mode": {
    "name": "ipython",
    "version": 3
   },
   "file_extension": ".py",
   "mimetype": "text/x-python",
   "name": "python",
   "nbconvert_exporter": "python",
   "pygments_lexer": "ipython3",
   "version": "3.7.4"
  }
 },
 "nbformat": 4,
 "nbformat_minor": 4
}
